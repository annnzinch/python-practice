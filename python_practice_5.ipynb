{
  "nbformat": 4,
  "nbformat_minor": 0,
  "metadata": {
    "colab": {
      "provenance": []
    },
    "kernelspec": {
      "name": "python3",
      "display_name": "Python 3"
    },
    "language_info": {
      "name": "python"
    }
  },
  "cells": [
    {
      "cell_type": "markdown",
      "source": [
        "# I. OOP"
      ],
      "metadata": {
        "id": "5qV_sehzFCTp"
      }
    },
    {
      "cell_type": "markdown",
      "source": [
        "1. (6б). Створіть клас Animal, додайте три атрибути, один з яких має значення за замовчуванням та два методи на свій розсуд."
      ],
      "metadata": {
        "id": "tx_U_hOALyfg"
      }
    },
    {
      "cell_type": "code",
      "source": [
        "class Animal():\n",
        "  def __init__(self, name, type_of_animal, weight = 0):\n",
        "    self.name = name\n",
        "    self.type_of_animal = type_of_animal\n",
        "    self.weight = weight\n",
        "\n",
        "\n",
        "  def set_weight(self, new_weight):\n",
        "    self.weight = new_weight\n",
        "\n",
        "\n",
        "  def get_info(self):\n",
        "    print(f\"Name of the animal: {self.name}\")\n",
        "    print(f\"Type of animal {self.name}: {self.type_of_animal}\")\n",
        "    print(f\"Weight of animal {self.name}: {self.weight} kg\\n\")"
      ],
      "metadata": {
        "id": "-Vf895KaL88N"
      },
      "execution_count": 122,
      "outputs": []
    },
    {
      "cell_type": "markdown",
      "source": [
        "2. (2б). Створіть два обʼєкти цього класу, де один з обʼєктів створюється із дефолтним значенням атрибуту. На одному обʼєкті отримайте значення його атрибуту, а на іншому викличте один з його методів."
      ],
      "metadata": {
        "id": "X_UlOMB0L93w"
      }
    },
    {
      "cell_type": "code",
      "source": [
        "animal_1 = Animal(\"Marta\", \"cow\")\n",
        "animal_2 = Animal(\"Cassy\", \"cat\", 3)\n",
        "\n",
        "print(f\"Weight of animal_1: {animal_1.weight} kg\\n\")\n",
        "animal_2.get_info()"
      ],
      "metadata": {
        "id": "7gBu0ESOMCpG",
        "colab": {
          "base_uri": "https://localhost:8080/"
        },
        "outputId": "8346f2dd-95e9-4868-b400-ef23ceae4047"
      },
      "execution_count": 123,
      "outputs": [
        {
          "output_type": "stream",
          "name": "stdout",
          "text": [
            "Weight of animal_1: 0 kg\n",
            "\n",
            "Name of the animal: Cassy\n",
            "Type of animal Cassy: cat\n",
            "Weight of animal Cassy: 3 kg\n",
            "\n"
          ]
        }
      ]
    },
    {
      "cell_type": "markdown",
      "source": [
        "3. (5б). Створіть клас, де атрибути мають різні рівні доступу. Спробуйте отримати їхні значення та опишіть результати."
      ],
      "metadata": {
        "id": "HoqSCZt1MHn5"
      }
    },
    {
      "cell_type": "code",
      "source": [
        "class Student():\n",
        "  def __init__(self, name, surname, age):\n",
        "    self.__name = name\n",
        "    self._surname = surname\n",
        "    self.age = age\n",
        "\n",
        "student1 = Student(\"Anna\", \"Zinchenko\", 18)\n",
        "print(\"Student 1:\")\n",
        "print(student1.age) #public (can be accessed)\n",
        "print(student1._surname) #protected (can be accessed but not advised)\n",
        "#print(student1.__name) #private (AttributeError)"
      ],
      "metadata": {
        "id": "r9b3vJxBMSPV",
        "colab": {
          "base_uri": "https://localhost:8080/"
        },
        "outputId": "0363c842-5cb2-41da-ce56-f0d1804029f5"
      },
      "execution_count": 124,
      "outputs": [
        {
          "output_type": "stream",
          "name": "stdout",
          "text": [
            "Student 1:\n",
            "18\n",
            "Zinchenko\n"
          ]
        }
      ]
    },
    {
      "cell_type": "markdown",
      "source": [
        "4. (7б). Як ви розумієте термін self? Для чого використовується метод __init __?"
      ],
      "metadata": {
        "id": "5op2m2vgMSkZ"
      }
    },
    {
      "cell_type": "markdown",
      "source": [
        "self це параметр, який вказує на поточний об'єкт класу та є першим параметром в __init __. він є посиланням на екземпляр класу, яке дозволяє звертатися до його атрибутів та методів\n",
        "\n",
        " __init __ - це конструктор класу, метод, який викликається при створення нового об'єкта класу і використовується для ініціалізації його атрибутів."
      ],
      "metadata": {
        "id": "DyiPqNRvMasx"
      }
    },
    {
      "cell_type": "markdown",
      "source": [
        "5. (9б). Створіть клас Фігура без атрибутів, з методом get_area для отримання площі фігури, що повертає 0 та __add __, який приймає self та other в якості аргументів, а повертає суму площин фігур self та other."
      ],
      "metadata": {
        "id": "-6X8EGfjMd2y"
      }
    },
    {
      "cell_type": "code",
      "source": [
        "class Figure():\n",
        "  def get_area(self):\n",
        "    return 0\n",
        "\n",
        "\n",
        "  def __add__(self, other):\n",
        "    return self.get_area() + other.get_area()"
      ],
      "metadata": {
        "id": "4rvO_wYUMaEr"
      },
      "execution_count": 125,
      "outputs": []
    },
    {
      "cell_type": "markdown",
      "source": [
        "6. (11б). Створіть 2 дочірніх класи від Фігури: Трикутник та Коло, які мають атрибути, необхідні для розрахунку площин. Визначте метод get_area в кожному з них так, щоби вони розраховували площу в залежності від формули для кожного типу фігури. Створіть обʼєкт класу Трикутник та обʼєкт класу Коло. Виконайте операцію суми за допомогою оператора + між ними."
      ],
      "metadata": {
        "id": "SFcKnnv5Mo_z"
      }
    },
    {
      "cell_type": "code",
      "source": [
        "import cmath\n",
        "\n",
        "class Triangle(Figure):\n",
        "  def __init__(self, a, b, c):\n",
        "    self.a = a\n",
        "    self.b = b\n",
        "    self.c = c\n",
        "\n",
        "\n",
        "  def get_area(self):\n",
        "    p = (self.a + self.b + self.c)/2\n",
        "    area = abs(cmath.sqrt(p * (p - self.a) * (p - self.b) * (p - self.c)))\n",
        "    return area\n",
        "\n",
        "\n",
        "class Circle(Figure):\n",
        "  def __init__(self, r):\n",
        "    self.r = r\n",
        "\n",
        "  def get_area(self):\n",
        "    area = cmath. pi * self.r ** 2\n",
        "    return area\n",
        "\n",
        "\n",
        "triangle = Triangle(3, 4, 5)\n",
        "circle = Circle(4)\n",
        "\n",
        "print(triangle.get_area())\n",
        "print(circle.get_area())\n",
        "\n",
        "sum = triangle.get_area() + circle.get_area()\n",
        "print(sum)\n"
      ],
      "metadata": {
        "id": "H3GVNr69Muf3",
        "colab": {
          "base_uri": "https://localhost:8080/"
        },
        "outputId": "b8e3a432-f6e5-43d8-8c07-62fbad14ae5c"
      },
      "execution_count": 126,
      "outputs": [
        {
          "output_type": "stream",
          "name": "stdout",
          "text": [
            "6.0\n",
            "50.26548245743669\n",
            "56.26548245743669\n"
          ]
        }
      ]
    },
    {
      "cell_type": "markdown",
      "source": [
        "7. (3б). Продемонструйте різницю між isinstance та issubclass."
      ],
      "metadata": {
        "id": "HCvR206YMvLK"
      }
    },
    {
      "cell_type": "code",
      "source": [
        "print(isinstance(triangle, Triangle)) #true - triangle is an instance of Triangle class\n",
        "print(isinstance(triangle, Circle)) #false - triangle isn't an instance of Circle class\n",
        "print(isinstance(circle, Figure)) #true - circle is an instance of Figure's subclass\n",
        "\n",
        "#print(issubclass(triangle, Triangle)) #TypeError: issubclass() arg 1 must be a class\n",
        "\n",
        "print(issubclass(Triangle, Figure)) #true - Triangle is a subclass of Figure\n",
        "print(issubclass(Figure, Triangle)) #false - Figure isn't a subclass of Triangle"
      ],
      "metadata": {
        "id": "L_V1bBvDM0GN",
        "colab": {
          "base_uri": "https://localhost:8080/"
        },
        "outputId": "760fe0ad-7fa0-4d7a-dde7-18bae83e046e"
      },
      "execution_count": 127,
      "outputs": [
        {
          "output_type": "stream",
          "name": "stdout",
          "text": [
            "True\n",
            "False\n",
            "True\n",
            "True\n",
            "False\n"
          ]
        }
      ]
    },
    {
      "cell_type": "markdown",
      "source": [
        "8. (13б). Створіть клас BankAccount з приватними атрибутами balance та account_number. Реалізуйте методи поповнення та зняття коштів, забезпечивши належну інкапсуляцію. Підказка: використовуйте декоратори property та setter."
      ],
      "metadata": {
        "id": "jjsaBZ-iM0Qq"
      }
    },
    {
      "cell_type": "code",
      "source": [
        "class BankAccount():\n",
        "  def __init__(self, balance, account_number):\n",
        "    self._balance = balance\n",
        "    self._account_number = account_number\n",
        "\n",
        "\n",
        "  @property\n",
        "  def balance(self):\n",
        "    return self._balance\n",
        "\n",
        "\n",
        "  @property\n",
        "  def account_number(self):\n",
        "    return self._account_number\n",
        "\n",
        "\n",
        "  @balance.setter\n",
        "  def balance(self, new_balance):\n",
        "    if new_balance > 0:\n",
        "      self._balance = new_balance\n",
        "    else:\n",
        "      print(\"Balance cannot be negative.\")\n",
        "\n",
        "\n",
        "  def deposit(self, amount):\n",
        "    if amount > 0:\n",
        "      self._balance += amount\n",
        "    else:\n",
        "      print(\"Deposit amount cannot be negative.\")\n",
        "\n",
        "\n",
        "  def withdraw(self, amount):\n",
        "    if amount > 0:\n",
        "      if amount <= self._balance:\n",
        "        self._balance -= amount\n",
        "      else:\n",
        "        print(\"Insufficient funds\")\n",
        "    else:\n",
        "      print(\"Withdrawal amount cannot be negative.\")\n",
        "\n",
        "\n",
        "account = BankAccount(985, 2345)\n",
        "print(\"account balance:\", account.balance, \"\\n\")\n",
        "\n",
        "print(\"deposit 15\")\n",
        "account.deposit(15)\n",
        "print(\"account balance:\", account.balance, \"\\n\")\n",
        "\n",
        "print(\"deposit -10\")\n",
        "account.deposit(-10)\n",
        "print(\"account balance:\", account.balance, \"\\n\")\n",
        "\n",
        "print(\"withdraw 300\")\n",
        "account.withdraw(300)\n",
        "print(\"account balance:\", account.balance, \"\\n\")\n",
        "\n",
        "print(\"withdraw 10000\")\n",
        "account.withdraw(10000)\n",
        "print(\"account balance:\", account.balance, \"\\n\")\n",
        "\n",
        "print(\"withdraw -20\")\n",
        "account.withdraw(-20)\n",
        "print(\"account balance:\", account.balance, \"\\n\")"
      ],
      "metadata": {
        "id": "xCvZ7lh8M7YA",
        "colab": {
          "base_uri": "https://localhost:8080/"
        },
        "outputId": "feb723fa-da55-4294-a1ad-c82e220a24ed"
      },
      "execution_count": 128,
      "outputs": [
        {
          "output_type": "stream",
          "name": "stdout",
          "text": [
            "account balance: 985 \n",
            "\n",
            "deposit 15\n",
            "account balance: 1000 \n",
            "\n",
            "deposit -10\n",
            "Deposit amount cannot be negative.\n",
            "account balance: 1000 \n",
            "\n",
            "withdraw 300\n",
            "account balance: 700 \n",
            "\n",
            "withdraw 10000\n",
            "Insufficient funds\n",
            "account balance: 700 \n",
            "\n",
            "withdraw -20\n",
            "Withdrawal amount cannot be negative.\n",
            "account balance: 700 \n",
            "\n"
          ]
        }
      ]
    },
    {
      "cell_type": "markdown",
      "source": [
        "9. (11б). Створіть клас Library, який містить список об'єктів типу Book. Реалізуйте методи для додавання книги, видалення книги та відображення списку книг."
      ],
      "metadata": {
        "id": "tIzL2SJTM8ft"
      }
    },
    {
      "cell_type": "code",
      "source": [
        "class Book():\n",
        "  def __init__(self, title, author):\n",
        "    self.title = title\n",
        "    self.author = author\n",
        "\n",
        "class Library():\n",
        "  def __init__(self):\n",
        "    self.books = []\n",
        "\n",
        "\n",
        "  def add_book(self, new_book):\n",
        "    self.books.append(new_book)\n",
        "    print(\"Book\", new_book.title, \"was added to the library\")\n",
        "\n",
        "\n",
        "  def remove_book(self, old_book):\n",
        "    if old_book in self.books:\n",
        "      self.books.remove(old_book)\n",
        "      print(\"Book\", old_book.title, \"was removed from the library\")\n",
        "    else:\n",
        "      print(\"Book\", old_book.title, \"was not found\")\n",
        "\n",
        "\n",
        "  def show_books(self):\n",
        "    print(\"\\nAll books:\")\n",
        "    for book in self.books:\n",
        "      print(book.title, \"-\", book.author)\n",
        "    print(\"\\n\")\n",
        "\n",
        "\n",
        "library = Library()\n",
        "book1 = Book(\"Little Women\", \"Louisa May Alcott\")\n",
        "book2 = Book(\"1984\", \"George Orwell\")\n",
        "book3 = Book(\"The Black Obelisk\", \"Erich Maria Remarque\")\n",
        "\n",
        "library.add_book(book1)\n",
        "library.add_book(book2)\n",
        "library.add_book(book3)\n",
        "\n",
        "library.show_books()\n",
        "\n",
        "library.remove_book(book3)\n",
        "library.show_books()"
      ],
      "metadata": {
        "id": "HWxfJKLtNAUZ",
        "colab": {
          "base_uri": "https://localhost:8080/"
        },
        "outputId": "24dee45d-b61f-42ff-c759-2e2c0bcf00b2"
      },
      "execution_count": 129,
      "outputs": [
        {
          "output_type": "stream",
          "name": "stdout",
          "text": [
            "Book Little Women was added to the library\n",
            "Book 1984 was added to the library\n",
            "Book The Black Obelisk was added to the library\n",
            "\n",
            "All books:\n",
            "Little Women - Louisa May Alcott\n",
            "1984 - George Orwell\n",
            "The Black Obelisk - Erich Maria Remarque\n",
            "\n",
            "\n",
            "Book The Black Obelisk was removed from the library\n",
            "\n",
            "All books:\n",
            "Little Women - Louisa May Alcott\n",
            "1984 - George Orwell\n",
            "\n",
            "\n"
          ]
        }
      ]
    },
    {
      "cell_type": "markdown",
      "source": [
        "10. (13б). Створіть клас Person з атрибутами name та age. Створіть ще один клас Employee з такими атрибутами, як department та salary. Створіть клас Manager, який успадковує обидва класи Person та Employee. Продемонструйте використання множинної спадковості, створивши обʼєкт класу Manager та отримавши mro для цього класу."
      ],
      "metadata": {
        "id": "lmV8pAwwNIqu"
      }
    },
    {
      "cell_type": "code",
      "source": [
        "class Person():\n",
        "  def __init__(self, name, age):\n",
        "    self.name = name\n",
        "    self.age = age\n",
        "\n",
        "\n",
        "class Employee():\n",
        "  def __init__(self, department, salary):\n",
        "    self.department = department\n",
        "    self.salary = salary\n",
        "\n",
        "\n",
        "class Manager(Person, Employee):\n",
        "  def __init__(self, name, age, department, salary):\n",
        "    Person.__init__(self, name, age)\n",
        "    Employee.__init__(self, department, salary)\n",
        "\n",
        "\n",
        "manager = Manager(\"Andriy\", 25, \"IT\", 15000)\n",
        "print(manager.name)\n",
        "print(manager.age)\n",
        "print(manager.department)\n",
        "print(manager.salary)\n",
        "print(Manager.mro())"
      ],
      "metadata": {
        "id": "R49grKlWNPeN",
        "colab": {
          "base_uri": "https://localhost:8080/"
        },
        "outputId": "70098bad-6504-46bc-f218-8a5bafca4543"
      },
      "execution_count": 130,
      "outputs": [
        {
          "output_type": "stream",
          "name": "stdout",
          "text": [
            "Andriy\n",
            "25\n",
            "IT\n",
            "15000\n",
            "[<class '__main__.Manager'>, <class '__main__.Person'>, <class '__main__.Employee'>, <class 'object'>]\n"
          ]
        }
      ]
    },
    {
      "cell_type": "markdown",
      "source": [
        "# II. Iterator"
      ],
      "metadata": {
        "id": "dIJyUiNBFG8G"
      }
    },
    {
      "cell_type": "markdown",
      "source": [
        "11. (4б). Визначте рядок(str) з 4ма різними за значенням символами. Створіть ітератор на основі цього рядка. Викличте 5 разів функцію next на ітераторі, 4ри перших з них огорніть у ф-цію print()."
      ],
      "metadata": {
        "id": "13vsm0NyKIzL"
      }
    },
    {
      "cell_type": "code",
      "source": [
        "my_string = \"2dF6\"\n",
        "my_iterator = iter(my_string)\n",
        "\n",
        "for _ in range (5):\n",
        "  try:\n",
        "    next_element = next(my_iterator)\n",
        "    if _ < 4:\n",
        "      print(next_element)\n",
        "  except StopIteration:\n",
        "    print(\"End of iterator reached\")\n"
      ],
      "metadata": {
        "id": "81ntabAkKuz-",
        "colab": {
          "base_uri": "https://localhost:8080/"
        },
        "outputId": "0db2168d-4219-47e4-9693-a7f17911e4b9"
      },
      "execution_count": 131,
      "outputs": [
        {
          "output_type": "stream",
          "name": "stdout",
          "text": [
            "2\n",
            "d\n",
            "F\n",
            "6\n",
            "End of iterator reached\n"
          ]
        }
      ]
    },
    {
      "cell_type": "markdown",
      "source": [
        "А що якщо викликати цю ж функцію на рядку?"
      ],
      "metadata": {
        "id": "aekWHGXOLRsO"
      }
    },
    {
      "cell_type": "code",
      "source": [
        "try:\n",
        "    next_element = next(my_iterator)\n",
        "    print(next_element)\n",
        "except StopIteration:\n",
        "    print(\"End of iterator reached\")"
      ],
      "metadata": {
        "id": "mxATGsErLV1i",
        "colab": {
          "base_uri": "https://localhost:8080/"
        },
        "outputId": "f599882e-8c40-4b2f-e1e0-7b9666826d57"
      },
      "execution_count": 132,
      "outputs": [
        {
          "output_type": "stream",
          "name": "stdout",
          "text": [
            "End of iterator reached\n"
          ]
        }
      ]
    },
    {
      "cell_type": "markdown",
      "source": [
        " 12. (5б). Опишіть своїми словами в одному реченні, як ви розумієте різницю між ітерабельними обʼєктами та ітераторами (можна на прикладі)."
      ],
      "metadata": {
        "id": "XwtMEopwJ4pH"
      }
    },
    {
      "cell_type": "markdown",
      "source": [
        "ітерабельні об'єкти можуть бути перебрані за допомогою циклу for, це наприклад, список або кортеж, де кожен елемент може бути доступний за індексом, а ітератор - це об'єкт, який зберігає стан перебору eлементів ітерабельного об'єкта"
      ],
      "metadata": {
        "id": "-sHrODc3KFn8"
      }
    },
    {
      "cell_type": "markdown",
      "source": [
        "13. (11б). Створіть клас, що має визначений Iterator Protocol та при кожному виклику next повертає літери англійської абетки, поки вони не вичерпаються."
      ],
      "metadata": {
        "id": "E9qJWmNbK8Gl"
      }
    },
    {
      "cell_type": "code",
      "source": [
        "class AlphabetIterator():\n",
        "  def __init__(self):\n",
        "    self.current_letter = ord('a')\n",
        "\n",
        "\n",
        "  def __iter__(self):\n",
        "    return self\n",
        "\n",
        "\n",
        "  def __next__(self):\n",
        "    if self.current_letter > ord('z'):\n",
        "      raise StopIteration\n",
        "    letter = chr(self.current_letter)\n",
        "    self.current_letter += 1\n",
        "    return letter\n",
        "\n",
        "\n",
        "alphabet_iter = AlphabetIterator()\n",
        "\n",
        "for letter in alphabet_iter:\n",
        "    print(letter)"
      ],
      "metadata": {
        "id": "cqx-g_RsLo6I",
        "colab": {
          "base_uri": "https://localhost:8080/"
        },
        "outputId": "758235e5-fb44-4e58-e236-74a68937c90b"
      },
      "execution_count": 133,
      "outputs": [
        {
          "output_type": "stream",
          "name": "stdout",
          "text": [
            "a\n",
            "b\n",
            "c\n",
            "d\n",
            "e\n",
            "f\n",
            "g\n",
            "h\n",
            "i\n",
            "j\n",
            "k\n",
            "l\n",
            "m\n",
            "n\n",
            "o\n",
            "p\n",
            "q\n",
            "r\n",
            "s\n",
            "t\n",
            "u\n",
            "v\n",
            "w\n",
            "x\n",
            "y\n",
            "z\n"
          ]
        }
      ]
    },
    {
      "cell_type": "markdown",
      "source": [
        "# Вітаю! Ви велика(ий) молодець, що впоралась(вся). Похваліть себе та побалуйте чимось приємним. Я Вами пишаюся."
      ],
      "metadata": {
        "id": "Z3E3S_s1Fv7-"
      }
    }
  ]
}